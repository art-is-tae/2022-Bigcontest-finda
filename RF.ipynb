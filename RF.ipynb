{
 "cells": [
  {
   "cell_type": "code",
   "execution_count": 1,
   "metadata": {
    "executionInfo": {
     "elapsed": 1472,
     "status": "ok",
     "timestamp": 1664885026147,
     "user": {
      "displayName": "김태용",
      "userId": "03922804722454267637"
     },
     "user_tz": -540
    },
    "id": "ySMsf6WXy4F3"
   },
   "outputs": [],
   "source": [
    "import pandas as pd\n",
    "# from xgboost import XGBClassifier\n",
    "\n",
    "import pandas as pd\n",
    "import numpy as np\n",
    "import matplotlib.pyplot as plt\n",
    "import seaborn as sns\n",
    "\n",
    "from sklearn.tree import DecisionTreeClassifier\n",
    "from sklearn.ensemble import RandomForestClassifier\n",
    "from sklearn.model_selection import train_test_split, GridSearchCV\n",
    "from sklearn.metrics import accuracy_score, f1_score"
   ]
  },
  {
   "cell_type": "code",
   "execution_count": 2,
   "metadata": {
    "executionInfo": {
     "elapsed": 6,
     "status": "ok",
     "timestamp": 1664885026148,
     "user": {
      "displayName": "김태용",
      "userId": "03922804722454267637"
     },
     "user_tz": -540
    },
    "id": "Eg7etRbpy98D"
   },
   "outputs": [],
   "source": [
    "path_train = \"./data/train_data_2.csv\"\n",
    "path_val = \"./data/val_data_0.csv\"\n",
    "# path_test = \"./test_data.csv\"\n",
    "# path_val = \"./val_data_0.csv\""
   ]
  },
  {
   "cell_type": "code",
   "execution_count": 3,
   "metadata": {},
   "outputs": [],
   "source": [
    "data_val = pd.read_csv(path_val)"
   ]
  },
  {
   "cell_type": "code",
   "execution_count": 4,
   "metadata": {
    "colab": {
     "base_uri": "https://localhost:8080/",
     "height": 492
    },
    "executionInfo": {
     "elapsed": 31035,
     "status": "ok",
     "timestamp": 1664885057178,
     "user": {
      "displayName": "김태용",
      "userId": "03922804722454267637"
     },
     "user_tz": -540
    },
    "id": "uhwW5SjdzDLe",
    "outputId": "4184d9db-efd1-42e3-c3c7-b849345c227f"
   },
   "outputs": [
    {
     "name": "stdout",
     "output_type": "stream",
     "text": [
      "(2595852, 58)\n",
      "(648963, 58)\n"
     ]
    },
    {
     "data": {
      "text/html": [
       "<div>\n",
       "<style scoped>\n",
       "    .dataframe tbody tr th:only-of-type {\n",
       "        vertical-align: middle;\n",
       "    }\n",
       "\n",
       "    .dataframe tbody tr th {\n",
       "        vertical-align: top;\n",
       "    }\n",
       "\n",
       "    .dataframe thead th {\n",
       "        text-align: right;\n",
       "    }\n",
       "</style>\n",
       "<table border=\"1\" class=\"dataframe\">\n",
       "  <thead>\n",
       "    <tr style=\"text-align: right;\">\n",
       "      <th></th>\n",
       "      <th>application_id</th>\n",
       "      <th>loanapply_insert_time</th>\n",
       "      <th>bank_id</th>\n",
       "      <th>product_id</th>\n",
       "      <th>loan_limit</th>\n",
       "      <th>loan_rate</th>\n",
       "      <th>is_applied</th>\n",
       "      <th>user_id</th>\n",
       "      <th>birth_year</th>\n",
       "      <th>gender</th>\n",
       "      <th>...</th>\n",
       "      <th>insert_time_minute</th>\n",
       "      <th>personal_rehabilitation_yn_0</th>\n",
       "      <th>personal_rehabilitation_yn_1</th>\n",
       "      <th>personal_rehabilitation_yn_2</th>\n",
       "      <th>personal_rehabilitation_complete_yn_0</th>\n",
       "      <th>personal_rehabilitation_complete_yn_1</th>\n",
       "      <th>personal_rehabilitation_complete_yn_2</th>\n",
       "      <th>personal_rehabilitation_complete_yn_3</th>\n",
       "      <th>company_enter_month_year</th>\n",
       "      <th>company_enter_month_month</th>\n",
       "    </tr>\n",
       "  </thead>\n",
       "  <tbody>\n",
       "    <tr>\n",
       "      <th>0</th>\n",
       "      <td>1867362.0</td>\n",
       "      <td>2022-05-07 12:09:28</td>\n",
       "      <td>4.0</td>\n",
       "      <td>268.0</td>\n",
       "      <td>20000000.0</td>\n",
       "      <td>10.9</td>\n",
       "      <td>1.0</td>\n",
       "      <td>650628.0</td>\n",
       "      <td>1968.0</td>\n",
       "      <td>1.0</td>\n",
       "      <td>...</td>\n",
       "      <td>9</td>\n",
       "      <td>1</td>\n",
       "      <td>0</td>\n",
       "      <td>0</td>\n",
       "      <td>0</td>\n",
       "      <td>0</td>\n",
       "      <td>1</td>\n",
       "      <td>0</td>\n",
       "      <td>1970.0</td>\n",
       "      <td>1.0</td>\n",
       "    </tr>\n",
       "    <tr>\n",
       "      <th>1</th>\n",
       "      <td>1888879.0</td>\n",
       "      <td>2022-05-02 20:22:17</td>\n",
       "      <td>59.0</td>\n",
       "      <td>150.0</td>\n",
       "      <td>14000000.0</td>\n",
       "      <td>17.6</td>\n",
       "      <td>0.0</td>\n",
       "      <td>75483.0</td>\n",
       "      <td>1974.0</td>\n",
       "      <td>0.0</td>\n",
       "      <td>...</td>\n",
       "      <td>22</td>\n",
       "      <td>1</td>\n",
       "      <td>0</td>\n",
       "      <td>0</td>\n",
       "      <td>0</td>\n",
       "      <td>0</td>\n",
       "      <td>1</td>\n",
       "      <td>0</td>\n",
       "      <td>1970.0</td>\n",
       "      <td>1.0</td>\n",
       "    </tr>\n",
       "    <tr>\n",
       "      <th>2</th>\n",
       "      <td>1950464.0</td>\n",
       "      <td>2022-03-14 11:09:33</td>\n",
       "      <td>50.0</td>\n",
       "      <td>142.0</td>\n",
       "      <td>14000000.0</td>\n",
       "      <td>15.9</td>\n",
       "      <td>1.0</td>\n",
       "      <td>649072.0</td>\n",
       "      <td>1984.0</td>\n",
       "      <td>1.0</td>\n",
       "      <td>...</td>\n",
       "      <td>9</td>\n",
       "      <td>0</td>\n",
       "      <td>0</td>\n",
       "      <td>1</td>\n",
       "      <td>0</td>\n",
       "      <td>0</td>\n",
       "      <td>0</td>\n",
       "      <td>1</td>\n",
       "      <td>1970.0</td>\n",
       "      <td>1.0</td>\n",
       "    </tr>\n",
       "    <tr>\n",
       "      <th>3</th>\n",
       "      <td>642480.0</td>\n",
       "      <td>2022-03-01 11:57:40</td>\n",
       "      <td>35.0</td>\n",
       "      <td>98.0</td>\n",
       "      <td>9000000.0</td>\n",
       "      <td>15.9</td>\n",
       "      <td>0.0</td>\n",
       "      <td>499722.0</td>\n",
       "      <td>1972.0</td>\n",
       "      <td>0.0</td>\n",
       "      <td>...</td>\n",
       "      <td>57</td>\n",
       "      <td>0</td>\n",
       "      <td>0</td>\n",
       "      <td>1</td>\n",
       "      <td>0</td>\n",
       "      <td>0</td>\n",
       "      <td>0</td>\n",
       "      <td>1</td>\n",
       "      <td>1970.0</td>\n",
       "      <td>1.0</td>\n",
       "    </tr>\n",
       "    <tr>\n",
       "      <th>4</th>\n",
       "      <td>1444962.0</td>\n",
       "      <td>2022-05-16 00:35:23</td>\n",
       "      <td>21.0</td>\n",
       "      <td>196.0</td>\n",
       "      <td>3000000.0</td>\n",
       "      <td>12.5</td>\n",
       "      <td>0.0</td>\n",
       "      <td>126504.0</td>\n",
       "      <td>1992.0</td>\n",
       "      <td>1.0</td>\n",
       "      <td>...</td>\n",
       "      <td>35</td>\n",
       "      <td>1</td>\n",
       "      <td>0</td>\n",
       "      <td>0</td>\n",
       "      <td>0</td>\n",
       "      <td>0</td>\n",
       "      <td>1</td>\n",
       "      <td>0</td>\n",
       "      <td>1970.0</td>\n",
       "      <td>1.0</td>\n",
       "    </tr>\n",
       "    <tr>\n",
       "      <th>5</th>\n",
       "      <td>234972.0</td>\n",
       "      <td>2022-03-08 12:39:02</td>\n",
       "      <td>17.0</td>\n",
       "      <td>19.0</td>\n",
       "      <td>32000000.0</td>\n",
       "      <td>14.2</td>\n",
       "      <td>0.0</td>\n",
       "      <td>571769.0</td>\n",
       "      <td>1995.0</td>\n",
       "      <td>1.0</td>\n",
       "      <td>...</td>\n",
       "      <td>39</td>\n",
       "      <td>0</td>\n",
       "      <td>0</td>\n",
       "      <td>1</td>\n",
       "      <td>0</td>\n",
       "      <td>0</td>\n",
       "      <td>0</td>\n",
       "      <td>1</td>\n",
       "      <td>1970.0</td>\n",
       "      <td>1.0</td>\n",
       "    </tr>\n",
       "    <tr>\n",
       "      <th>6</th>\n",
       "      <td>947895.0</td>\n",
       "      <td>2022-05-12 15:28:24</td>\n",
       "      <td>28.0</td>\n",
       "      <td>217.0</td>\n",
       "      <td>2000000.0</td>\n",
       "      <td>15.3</td>\n",
       "      <td>0.0</td>\n",
       "      <td>492833.0</td>\n",
       "      <td>1975.0</td>\n",
       "      <td>1.0</td>\n",
       "      <td>...</td>\n",
       "      <td>28</td>\n",
       "      <td>1</td>\n",
       "      <td>0</td>\n",
       "      <td>0</td>\n",
       "      <td>0</td>\n",
       "      <td>0</td>\n",
       "      <td>1</td>\n",
       "      <td>0</td>\n",
       "      <td>1970.0</td>\n",
       "      <td>1.0</td>\n",
       "    </tr>\n",
       "    <tr>\n",
       "      <th>7</th>\n",
       "      <td>143231.0</td>\n",
       "      <td>2022-05-31 09:18:18</td>\n",
       "      <td>2.0</td>\n",
       "      <td>7.0</td>\n",
       "      <td>30000000.0</td>\n",
       "      <td>11.8</td>\n",
       "      <td>1.0</td>\n",
       "      <td>269734.0</td>\n",
       "      <td>1979.0</td>\n",
       "      <td>1.0</td>\n",
       "      <td>...</td>\n",
       "      <td>18</td>\n",
       "      <td>1</td>\n",
       "      <td>0</td>\n",
       "      <td>0</td>\n",
       "      <td>0</td>\n",
       "      <td>0</td>\n",
       "      <td>1</td>\n",
       "      <td>0</td>\n",
       "      <td>1970.0</td>\n",
       "      <td>1.0</td>\n",
       "    </tr>\n",
       "    <tr>\n",
       "      <th>8</th>\n",
       "      <td>1111284.0</td>\n",
       "      <td>2022-03-16 14:35:35</td>\n",
       "      <td>59.0</td>\n",
       "      <td>251.0</td>\n",
       "      <td>9000000.0</td>\n",
       "      <td>6.7</td>\n",
       "      <td>1.0</td>\n",
       "      <td>5200.0</td>\n",
       "      <td>1979.0</td>\n",
       "      <td>1.0</td>\n",
       "      <td>...</td>\n",
       "      <td>35</td>\n",
       "      <td>0</td>\n",
       "      <td>0</td>\n",
       "      <td>1</td>\n",
       "      <td>0</td>\n",
       "      <td>0</td>\n",
       "      <td>0</td>\n",
       "      <td>1</td>\n",
       "      <td>1970.0</td>\n",
       "      <td>1.0</td>\n",
       "    </tr>\n",
       "    <tr>\n",
       "      <th>9</th>\n",
       "      <td>612789.0</td>\n",
       "      <td>2022-03-11 23:39:34</td>\n",
       "      <td>13.0</td>\n",
       "      <td>123.0</td>\n",
       "      <td>38000000.0</td>\n",
       "      <td>17.6</td>\n",
       "      <td>0.0</td>\n",
       "      <td>699038.0</td>\n",
       "      <td>1967.0</td>\n",
       "      <td>0.0</td>\n",
       "      <td>...</td>\n",
       "      <td>39</td>\n",
       "      <td>0</td>\n",
       "      <td>0</td>\n",
       "      <td>1</td>\n",
       "      <td>0</td>\n",
       "      <td>0</td>\n",
       "      <td>0</td>\n",
       "      <td>1</td>\n",
       "      <td>1970.0</td>\n",
       "      <td>1.0</td>\n",
       "    </tr>\n",
       "  </tbody>\n",
       "</table>\n",
       "<p>10 rows × 58 columns</p>\n",
       "</div>"
      ],
      "text/plain": [
       "   application_id loanapply_insert_time  bank_id  product_id  loan_limit  \\\n",
       "0       1867362.0   2022-05-07 12:09:28      4.0       268.0  20000000.0   \n",
       "1       1888879.0   2022-05-02 20:22:17     59.0       150.0  14000000.0   \n",
       "2       1950464.0   2022-03-14 11:09:33     50.0       142.0  14000000.0   \n",
       "3        642480.0   2022-03-01 11:57:40     35.0        98.0   9000000.0   \n",
       "4       1444962.0   2022-05-16 00:35:23     21.0       196.0   3000000.0   \n",
       "5        234972.0   2022-03-08 12:39:02     17.0        19.0  32000000.0   \n",
       "6        947895.0   2022-05-12 15:28:24     28.0       217.0   2000000.0   \n",
       "7        143231.0   2022-05-31 09:18:18      2.0         7.0  30000000.0   \n",
       "8       1111284.0   2022-03-16 14:35:35     59.0       251.0   9000000.0   \n",
       "9        612789.0   2022-03-11 23:39:34     13.0       123.0  38000000.0   \n",
       "\n",
       "   loan_rate  is_applied   user_id  birth_year  gender  ...  \\\n",
       "0       10.9         1.0  650628.0      1968.0     1.0  ...   \n",
       "1       17.6         0.0   75483.0      1974.0     0.0  ...   \n",
       "2       15.9         1.0  649072.0      1984.0     1.0  ...   \n",
       "3       15.9         0.0  499722.0      1972.0     0.0  ...   \n",
       "4       12.5         0.0  126504.0      1992.0     1.0  ...   \n",
       "5       14.2         0.0  571769.0      1995.0     1.0  ...   \n",
       "6       15.3         0.0  492833.0      1975.0     1.0  ...   \n",
       "7       11.8         1.0  269734.0      1979.0     1.0  ...   \n",
       "8        6.7         1.0    5200.0      1979.0     1.0  ...   \n",
       "9       17.6         0.0  699038.0      1967.0     0.0  ...   \n",
       "\n",
       "  insert_time_minute  personal_rehabilitation_yn_0  \\\n",
       "0                  9                             1   \n",
       "1                 22                             1   \n",
       "2                  9                             0   \n",
       "3                 57                             0   \n",
       "4                 35                             1   \n",
       "5                 39                             0   \n",
       "6                 28                             1   \n",
       "7                 18                             1   \n",
       "8                 35                             0   \n",
       "9                 39                             0   \n",
       "\n",
       "   personal_rehabilitation_yn_1 personal_rehabilitation_yn_2  \\\n",
       "0                             0                            0   \n",
       "1                             0                            0   \n",
       "2                             0                            1   \n",
       "3                             0                            1   \n",
       "4                             0                            0   \n",
       "5                             0                            1   \n",
       "6                             0                            0   \n",
       "7                             0                            0   \n",
       "8                             0                            1   \n",
       "9                             0                            1   \n",
       "\n",
       "   personal_rehabilitation_complete_yn_0  \\\n",
       "0                                      0   \n",
       "1                                      0   \n",
       "2                                      0   \n",
       "3                                      0   \n",
       "4                                      0   \n",
       "5                                      0   \n",
       "6                                      0   \n",
       "7                                      0   \n",
       "8                                      0   \n",
       "9                                      0   \n",
       "\n",
       "   personal_rehabilitation_complete_yn_1  \\\n",
       "0                                      0   \n",
       "1                                      0   \n",
       "2                                      0   \n",
       "3                                      0   \n",
       "4                                      0   \n",
       "5                                      0   \n",
       "6                                      0   \n",
       "7                                      0   \n",
       "8                                      0   \n",
       "9                                      0   \n",
       "\n",
       "   personal_rehabilitation_complete_yn_2  \\\n",
       "0                                      1   \n",
       "1                                      1   \n",
       "2                                      0   \n",
       "3                                      0   \n",
       "4                                      1   \n",
       "5                                      0   \n",
       "6                                      1   \n",
       "7                                      1   \n",
       "8                                      0   \n",
       "9                                      0   \n",
       "\n",
       "   personal_rehabilitation_complete_yn_3  company_enter_month_year  \\\n",
       "0                                      0                    1970.0   \n",
       "1                                      0                    1970.0   \n",
       "2                                      1                    1970.0   \n",
       "3                                      1                    1970.0   \n",
       "4                                      0                    1970.0   \n",
       "5                                      1                    1970.0   \n",
       "6                                      0                    1970.0   \n",
       "7                                      0                    1970.0   \n",
       "8                                      1                    1970.0   \n",
       "9                                      1                    1970.0   \n",
       "\n",
       "   company_enter_month_month  \n",
       "0                        1.0  \n",
       "1                        1.0  \n",
       "2                        1.0  \n",
       "3                        1.0  \n",
       "4                        1.0  \n",
       "5                        1.0  \n",
       "6                        1.0  \n",
       "7                        1.0  \n",
       "8                        1.0  \n",
       "9                        1.0  \n",
       "\n",
       "[10 rows x 58 columns]"
      ]
     },
     "execution_count": 4,
     "metadata": {},
     "output_type": "execute_result"
    }
   ],
   "source": [
    "data_train = pd.read_csv(path_train)\n",
    "# data_val = pd.read_csv(path_val)\n",
    "data_test = pd.read_csv(path_val)\n",
    "\n",
    "print(data_train.shape)\n",
    "# print(data_val.shape)\n",
    "print(data_test.shape)\n",
    "data_test.head(10)"
   ]
  },
  {
   "cell_type": "code",
   "execution_count": 5,
   "metadata": {
    "executionInfo": {
     "elapsed": 470,
     "status": "ok",
     "timestamp": 1664885057627,
     "user": {
      "displayName": "김태용",
      "userId": "03922804722454267637"
     },
     "user_tz": -540
    },
    "id": "5cH9bSl629YR"
   },
   "outputs": [],
   "source": [
    "X_train = data_train.drop([\"is_applied\"], axis=1)\n",
    "y_train = data_train[\"is_applied\"]\n",
    "# X_val = data_val.drop([\"is_applied\"], axis=1)\n",
    "# y_val = data_val[\"is_applied\"]\n",
    "X_test = data_val.drop([\"is_applied\"], axis=1)\n",
    "y_test = data_val[\"is_applied\"]"
   ]
  },
  {
   "cell_type": "code",
   "execution_count": 6,
   "metadata": {
    "colab": {
     "base_uri": "https://localhost:8080/",
     "height": 389
    },
    "executionInfo": {
     "elapsed": 496,
     "status": "error",
     "timestamp": 1664885371367,
     "user": {
      "displayName": "김태용",
      "userId": "03922804722454267637"
     },
     "user_tz": -540
    },
    "id": "wNo3ZTSs4ppB",
    "outputId": "ca535f55-7eac-49d2-b3da-0e4d93b02059"
   },
   "outputs": [],
   "source": [
    "# X_val = X_val.drop([\"loanapply_insert_time\", \"insert_time\", \"company_enter_month\"])\n",
    "X_train = X_train.drop([\"loanapply_insert_time\"], axis=1)\n",
    "X_train = X_train.drop([\"insert_time\"], axis=1)\n",
    "X_train = X_train.drop([\"company_enter_month\"], axis=1)\n",
    "\n",
    "X_test = X_test.drop([\"loanapply_insert_time\"], axis=1)\n",
    "X_test = X_test.drop([\"insert_time\"], axis=1)\n",
    "X_test = X_test.drop([\"company_enter_month\"], axis=1)\n",
    "\n",
    "# y_val = y_val.drop([\"loanapply_insert_time\", \"insert_time\", \"company_enter_month\"])\n"
   ]
  },
  {
   "cell_type": "code",
   "execution_count": 7,
   "metadata": {
    "id": "2DhxrDgIzDn1"
   },
   "outputs": [
    {
     "data": {
      "text/plain": [
       "RandomForestClassifier(n_jobs=2, random_state=25)"
      ]
     },
     "execution_count": 7,
     "metadata": {},
     "output_type": "execute_result"
    }
   ],
   "source": [
    "rf = RandomForestClassifier(random_state=25, n_jobs=2)\n",
    "rf.fit(X_train, y_train)"
   ]
  },
  {
   "cell_type": "code",
   "execution_count": 8,
   "metadata": {
    "id": "4b07qEkN31M5"
   },
   "outputs": [
    {
     "name": "stdout",
     "output_type": "stream",
     "text": [
      "정확도 :0.2577199\n"
     ]
    }
   ],
   "source": [
    "pred = rf.predict(X_test)\n",
    "print(\"정확도 :{0:.7f}\".format(f1_score(y_test, pred)))\n"
   ]
  },
  {
   "cell_type": "code",
   "execution_count": 11,
   "metadata": {},
   "outputs": [
    {
     "name": "stdout",
     "output_type": "stream",
     "text": [
      "정확도 :0.9558850\n"
     ]
    }
   ],
   "source": [
    "print(\"정확도 :{0:.7f}\".format(accuracy_score(y_test, pred)))"
   ]
  },
  {
   "cell_type": "code",
   "execution_count": 9,
   "metadata": {},
   "outputs": [
    {
     "data": {
      "text/plain": [
       "RandomForestClassifier(max_depth=1, max_leaf_nodes=275, n_jobs=3,\n",
       "                       random_state=25)"
      ]
     },
     "execution_count": 9,
     "metadata": {},
     "output_type": "execute_result"
    }
   ],
   "source": [
    "rf2 = RandomForestClassifier(random_state=25, n_jobs=3, max_depth=1, max_leaf_nodes=275)\n",
    "rf2.fit(X_train, y_train)"
   ]
  },
  {
   "cell_type": "code",
   "execution_count": 10,
   "metadata": {},
   "outputs": [
    {
     "name": "stdout",
     "output_type": "stream",
     "text": [
      "정확도 :0.0000000\n"
     ]
    }
   ],
   "source": [
    "pred2 = rf2.predict(X_test)\n",
    "print(\"정확도 :{0:.7f}\".format(f1_score(y_test, pred2)))"
   ]
  },
  {
   "cell_type": "code",
   "execution_count": 11,
   "metadata": {},
   "outputs": [],
   "source": [
    "import pickle\n",
    "\n",
    "with open('./RF_train_1_ver2.pkl', 'wb') as f:\n",
    "    pickle.dump(rf, f, pickle.HIGHEST_PROTOCOL)"
   ]
  },
  {
   "cell_type": "code",
   "execution_count": 16,
   "metadata": {},
   "outputs": [],
   "source": [
    "with open('./RF_train_2.pkl', 'rb') as f:\n",
    "    data = pickle.load(f)"
   ]
  },
  {
   "cell_type": "code",
   "execution_count": 17,
   "metadata": {},
   "outputs": [
    {
     "name": "stdout",
     "output_type": "stream",
     "text": [
      "정확도 :0.2581715\n"
     ]
    }
   ],
   "source": [
    "pred3 = data.predict(X_test)\n",
    "print(\"정확도 :{0:.7f}\".format(f1_score(y_test, pred3)))"
   ]
  },
  {
   "cell_type": "code",
   "execution_count": null,
   "metadata": {},
   "outputs": [],
   "source": []
  }
 ],
 "metadata": {
  "accelerator": "GPU",
  "colab": {
   "authorship_tag": "ABX9TyN6qjs3IXBWWKFSKlL0QUFo",
   "provenance": []
  },
  "kernelspec": {
   "display_name": "Python 3 (ipykernel)",
   "language": "python",
   "name": "python3"
  },
  "language_info": {
   "codemirror_mode": {
    "name": "ipython",
    "version": 3
   },
   "file_extension": ".py",
   "mimetype": "text/x-python",
   "name": "python",
   "nbconvert_exporter": "python",
   "pygments_lexer": "ipython3",
   "version": "3.9.12"
  },
  "vscode": {
   "interpreter": {
    "hash": "31f2aee4e71d21fbe5cf8b01ff0e069b9275f58929596ceb00d14d90e3e16cd6"
   }
  }
 },
 "nbformat": 4,
 "nbformat_minor": 1
}
