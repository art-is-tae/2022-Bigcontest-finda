{
 "cells": [
  {
   "cell_type": "code",
   "execution_count": 1,
   "metadata": {
    "colab": {
     "base_uri": "https://localhost:8080/"
    },
    "executionInfo": {
     "elapsed": 2725,
     "status": "ok",
     "timestamp": 1664885024677,
     "user": {
      "displayName": "김태용",
      "userId": "03922804722454267637"
     },
     "user_tz": -540
    },
    "id": "8Ie6XoA7yW7s",
    "outputId": "b0f9052a-f473-46a0-9bf7-de01c20debec"
   },
   "outputs": [
    {
     "name": "stdout",
     "output_type": "stream",
     "text": [
      "Drive already mounted at /content/drive; to attempt to forcibly remount, call drive.mount(\"/content/drive\", force_remount=True).\n"
     ]
    }
   ],
   "source": [
    "from google.colab import drive\n",
    "drive.mount('/content/drive')"
   ]
  },
  {
   "cell_type": "code",
   "execution_count": 2,
   "metadata": {},
   "outputs": [
    {
     "name": "stdout",
     "output_type": "stream",
     "text": [
      "Collecting xgboost\n",
      "  Downloading xgboost-1.6.2-py3-none-macosx_10_15_x86_64.macosx_11_0_x86_64.macosx_12_0_x86_64.whl (1.7 MB)\n",
      "\u001b[K     |████████████████████████████████| 1.7 MB 11.9 MB/s eta 0:00:01\n",
      "\u001b[?25hRequirement already satisfied: numpy in /Users/gimtaeyong/opt/anaconda3/lib/python3.9/site-packages (from xgboost) (1.21.5)\n",
      "Requirement already satisfied: scipy in /Users/gimtaeyong/opt/anaconda3/lib/python3.9/site-packages (from xgboost) (1.7.3)\n",
      "Installing collected packages: xgboost\n",
      "Successfully installed xgboost-1.6.2\n"
     ]
    }
   ],
   "source": [
    "!pip3 install xgboost"
   ]
  },
  {
   "cell_type": "code",
   "execution_count": 1,
   "metadata": {
    "executionInfo": {
     "elapsed": 1472,
     "status": "ok",
     "timestamp": 1664885026147,
     "user": {
      "displayName": "김태용",
      "userId": "03922804722454267637"
     },
     "user_tz": -540
    },
    "id": "ySMsf6WXy4F3"
   },
   "outputs": [],
   "source": [
    "import pandas as pd\n",
    "from xgboost import XGBClassifier\n",
    "\n",
    "import pandas as pd\n",
    "import numpy as np\n",
    "import matplotlib.pyplot as plt\n",
    "import seaborn as sns\n",
    "\n",
    "from sklearn.tree import DecisionTreeClassifier\n",
    "from sklearn.ensemble import RandomForestClassifier\n",
    "from sklearn.model_selection import train_test_split, GridSearchCV\n",
    "from sklearn.metrics import accuracy_score"
   ]
  },
  {
   "cell_type": "code",
   "execution_count": 2,
   "metadata": {
    "executionInfo": {
     "elapsed": 6,
     "status": "ok",
     "timestamp": 1664885026148,
     "user": {
      "displayName": "김태용",
      "userId": "03922804722454267637"
     },
     "user_tz": -540
    },
    "id": "Eg7etRbpy98D"
   },
   "outputs": [],
   "source": [
    "path_train = \"./train_data_1.csv\"\n",
    "path_val = \"./val_data_1.csv\"\n",
    "# path_test = \"./test_data.csv\"\n",
    "# path_val = \"./val_data_0.csv\""
   ]
  },
  {
   "cell_type": "code",
   "execution_count": 3,
   "metadata": {
    "colab": {
     "base_uri": "https://localhost:8080/",
     "height": 492
    },
    "executionInfo": {
     "elapsed": 31035,
     "status": "ok",
     "timestamp": 1664885057178,
     "user": {
      "displayName": "김태용",
      "userId": "03922804722454267637"
     },
     "user_tz": -540
    },
    "id": "uhwW5SjdzDLe",
    "outputId": "4184d9db-efd1-42e3-c3c7-b849345c227f"
   },
   "outputs": [
    {
     "name": "stdout",
     "output_type": "stream",
     "text": [
      "(2595852, 58)\n",
      "(648963, 58)\n"
     ]
    },
    {
     "data": {
      "text/html": [
       "<div>\n",
       "<style scoped>\n",
       "    .dataframe tbody tr th:only-of-type {\n",
       "        vertical-align: middle;\n",
       "    }\n",
       "\n",
       "    .dataframe tbody tr th {\n",
       "        vertical-align: top;\n",
       "    }\n",
       "\n",
       "    .dataframe thead th {\n",
       "        text-align: right;\n",
       "    }\n",
       "</style>\n",
       "<table border=\"1\" class=\"dataframe\">\n",
       "  <thead>\n",
       "    <tr style=\"text-align: right;\">\n",
       "      <th></th>\n",
       "      <th>application_id</th>\n",
       "      <th>loanapply_insert_time</th>\n",
       "      <th>bank_id</th>\n",
       "      <th>product_id</th>\n",
       "      <th>loan_limit</th>\n",
       "      <th>loan_rate</th>\n",
       "      <th>is_applied</th>\n",
       "      <th>user_id</th>\n",
       "      <th>birth_year</th>\n",
       "      <th>gender</th>\n",
       "      <th>...</th>\n",
       "      <th>insert_time_minute</th>\n",
       "      <th>personal_rehabilitation_yn_0</th>\n",
       "      <th>personal_rehabilitation_yn_1</th>\n",
       "      <th>personal_rehabilitation_yn_2</th>\n",
       "      <th>personal_rehabilitation_complete_yn_0</th>\n",
       "      <th>personal_rehabilitation_complete_yn_1</th>\n",
       "      <th>personal_rehabilitation_complete_yn_2</th>\n",
       "      <th>personal_rehabilitation_complete_yn_3</th>\n",
       "      <th>company_enter_month_year</th>\n",
       "      <th>company_enter_month_month</th>\n",
       "    </tr>\n",
       "  </thead>\n",
       "  <tbody>\n",
       "    <tr>\n",
       "      <th>0</th>\n",
       "      <td>28586.0</td>\n",
       "      <td>2022-05-06 19:15:56</td>\n",
       "      <td>55.0</td>\n",
       "      <td>25.0</td>\n",
       "      <td>36000000.0</td>\n",
       "      <td>17.9</td>\n",
       "      <td>0.0</td>\n",
       "      <td>198106.0</td>\n",
       "      <td>1960.0</td>\n",
       "      <td>1.0</td>\n",
       "      <td>...</td>\n",
       "      <td>15</td>\n",
       "      <td>1</td>\n",
       "      <td>0</td>\n",
       "      <td>0</td>\n",
       "      <td>0</td>\n",
       "      <td>0</td>\n",
       "      <td>1</td>\n",
       "      <td>0</td>\n",
       "      <td>1970.0</td>\n",
       "      <td>1.0</td>\n",
       "    </tr>\n",
       "    <tr>\n",
       "      <th>1</th>\n",
       "      <td>2049434.0</td>\n",
       "      <td>2022-04-14 13:30:12</td>\n",
       "      <td>57.0</td>\n",
       "      <td>71.0</td>\n",
       "      <td>35000000.0</td>\n",
       "      <td>9.6</td>\n",
       "      <td>1.0</td>\n",
       "      <td>469357.0</td>\n",
       "      <td>1982.0</td>\n",
       "      <td>1.0</td>\n",
       "      <td>...</td>\n",
       "      <td>30</td>\n",
       "      <td>0</td>\n",
       "      <td>0</td>\n",
       "      <td>1</td>\n",
       "      <td>0</td>\n",
       "      <td>0</td>\n",
       "      <td>0</td>\n",
       "      <td>1</td>\n",
       "      <td>1970.0</td>\n",
       "      <td>1.0</td>\n",
       "    </tr>\n",
       "    <tr>\n",
       "      <th>2</th>\n",
       "      <td>1318712.0</td>\n",
       "      <td>2022-05-24 15:05:56</td>\n",
       "      <td>30.0</td>\n",
       "      <td>114.0</td>\n",
       "      <td>29000000.0</td>\n",
       "      <td>13.8</td>\n",
       "      <td>0.0</td>\n",
       "      <td>561933.0</td>\n",
       "      <td>1972.0</td>\n",
       "      <td>1.0</td>\n",
       "      <td>...</td>\n",
       "      <td>5</td>\n",
       "      <td>1</td>\n",
       "      <td>0</td>\n",
       "      <td>0</td>\n",
       "      <td>0</td>\n",
       "      <td>0</td>\n",
       "      <td>1</td>\n",
       "      <td>0</td>\n",
       "      <td>1970.0</td>\n",
       "      <td>1.0</td>\n",
       "    </tr>\n",
       "    <tr>\n",
       "      <th>3</th>\n",
       "      <td>1925948.0</td>\n",
       "      <td>2022-04-09 15:53:52</td>\n",
       "      <td>34.0</td>\n",
       "      <td>215.0</td>\n",
       "      <td>20000000.0</td>\n",
       "      <td>16.9</td>\n",
       "      <td>0.0</td>\n",
       "      <td>734518.0</td>\n",
       "      <td>1998.0</td>\n",
       "      <td>0.0</td>\n",
       "      <td>...</td>\n",
       "      <td>53</td>\n",
       "      <td>0</td>\n",
       "      <td>0</td>\n",
       "      <td>1</td>\n",
       "      <td>0</td>\n",
       "      <td>0</td>\n",
       "      <td>0</td>\n",
       "      <td>1</td>\n",
       "      <td>1970.0</td>\n",
       "      <td>1.0</td>\n",
       "    </tr>\n",
       "    <tr>\n",
       "      <th>4</th>\n",
       "      <td>1760956.0</td>\n",
       "      <td>2022-03-12 17:11:44</td>\n",
       "      <td>11.0</td>\n",
       "      <td>170.0</td>\n",
       "      <td>49000000.0</td>\n",
       "      <td>12.3</td>\n",
       "      <td>0.0</td>\n",
       "      <td>856643.0</td>\n",
       "      <td>1982.0</td>\n",
       "      <td>1.0</td>\n",
       "      <td>...</td>\n",
       "      <td>11</td>\n",
       "      <td>0</td>\n",
       "      <td>0</td>\n",
       "      <td>1</td>\n",
       "      <td>0</td>\n",
       "      <td>0</td>\n",
       "      <td>0</td>\n",
       "      <td>1</td>\n",
       "      <td>1970.0</td>\n",
       "      <td>1.0</td>\n",
       "    </tr>\n",
       "    <tr>\n",
       "      <th>5</th>\n",
       "      <td>403328.0</td>\n",
       "      <td>2022-05-15 12:10:14</td>\n",
       "      <td>63.0</td>\n",
       "      <td>226.0</td>\n",
       "      <td>49000000.0</td>\n",
       "      <td>11.7</td>\n",
       "      <td>0.0</td>\n",
       "      <td>807807.0</td>\n",
       "      <td>1991.0</td>\n",
       "      <td>1.0</td>\n",
       "      <td>...</td>\n",
       "      <td>10</td>\n",
       "      <td>1</td>\n",
       "      <td>0</td>\n",
       "      <td>0</td>\n",
       "      <td>0</td>\n",
       "      <td>0</td>\n",
       "      <td>1</td>\n",
       "      <td>0</td>\n",
       "      <td>1970.0</td>\n",
       "      <td>1.0</td>\n",
       "    </tr>\n",
       "    <tr>\n",
       "      <th>6</th>\n",
       "      <td>1892928.0</td>\n",
       "      <td>2022-03-05 10:52:18</td>\n",
       "      <td>24.0</td>\n",
       "      <td>229.0</td>\n",
       "      <td>12000000.0</td>\n",
       "      <td>9.3</td>\n",
       "      <td>0.0</td>\n",
       "      <td>30269.0</td>\n",
       "      <td>1977.0</td>\n",
       "      <td>0.0</td>\n",
       "      <td>...</td>\n",
       "      <td>52</td>\n",
       "      <td>0</td>\n",
       "      <td>0</td>\n",
       "      <td>1</td>\n",
       "      <td>0</td>\n",
       "      <td>0</td>\n",
       "      <td>0</td>\n",
       "      <td>1</td>\n",
       "      <td>1970.0</td>\n",
       "      <td>1.0</td>\n",
       "    </tr>\n",
       "    <tr>\n",
       "      <th>7</th>\n",
       "      <td>425786.0</td>\n",
       "      <td>2022-04-05 09:22:17</td>\n",
       "      <td>33.0</td>\n",
       "      <td>110.0</td>\n",
       "      <td>34000000.0</td>\n",
       "      <td>13.5</td>\n",
       "      <td>0.0</td>\n",
       "      <td>396400.0</td>\n",
       "      <td>1988.0</td>\n",
       "      <td>1.0</td>\n",
       "      <td>...</td>\n",
       "      <td>22</td>\n",
       "      <td>0</td>\n",
       "      <td>0</td>\n",
       "      <td>1</td>\n",
       "      <td>0</td>\n",
       "      <td>0</td>\n",
       "      <td>0</td>\n",
       "      <td>1</td>\n",
       "      <td>1970.0</td>\n",
       "      <td>1.0</td>\n",
       "    </tr>\n",
       "    <tr>\n",
       "      <th>8</th>\n",
       "      <td>517702.0</td>\n",
       "      <td>2022-05-02 18:04:22</td>\n",
       "      <td>62.0</td>\n",
       "      <td>48.0</td>\n",
       "      <td>10000000.0</td>\n",
       "      <td>7.1</td>\n",
       "      <td>0.0</td>\n",
       "      <td>462947.0</td>\n",
       "      <td>1987.0</td>\n",
       "      <td>0.0</td>\n",
       "      <td>...</td>\n",
       "      <td>4</td>\n",
       "      <td>1</td>\n",
       "      <td>0</td>\n",
       "      <td>0</td>\n",
       "      <td>0</td>\n",
       "      <td>0</td>\n",
       "      <td>1</td>\n",
       "      <td>0</td>\n",
       "      <td>1970.0</td>\n",
       "      <td>1.0</td>\n",
       "    </tr>\n",
       "    <tr>\n",
       "      <th>9</th>\n",
       "      <td>1233364.0</td>\n",
       "      <td>2022-03-10 14:37:04</td>\n",
       "      <td>37.0</td>\n",
       "      <td>206.0</td>\n",
       "      <td>24000000.0</td>\n",
       "      <td>19.9</td>\n",
       "      <td>0.0</td>\n",
       "      <td>689999.0</td>\n",
       "      <td>1999.0</td>\n",
       "      <td>1.0</td>\n",
       "      <td>...</td>\n",
       "      <td>37</td>\n",
       "      <td>0</td>\n",
       "      <td>0</td>\n",
       "      <td>1</td>\n",
       "      <td>0</td>\n",
       "      <td>0</td>\n",
       "      <td>0</td>\n",
       "      <td>1</td>\n",
       "      <td>1970.0</td>\n",
       "      <td>1.0</td>\n",
       "    </tr>\n",
       "  </tbody>\n",
       "</table>\n",
       "<p>10 rows × 58 columns</p>\n",
       "</div>"
      ],
      "text/plain": [
       "   application_id loanapply_insert_time  bank_id  product_id  loan_limit  \\\n",
       "0         28586.0   2022-05-06 19:15:56     55.0        25.0  36000000.0   \n",
       "1       2049434.0   2022-04-14 13:30:12     57.0        71.0  35000000.0   \n",
       "2       1318712.0   2022-05-24 15:05:56     30.0       114.0  29000000.0   \n",
       "3       1925948.0   2022-04-09 15:53:52     34.0       215.0  20000000.0   \n",
       "4       1760956.0   2022-03-12 17:11:44     11.0       170.0  49000000.0   \n",
       "5        403328.0   2022-05-15 12:10:14     63.0       226.0  49000000.0   \n",
       "6       1892928.0   2022-03-05 10:52:18     24.0       229.0  12000000.0   \n",
       "7        425786.0   2022-04-05 09:22:17     33.0       110.0  34000000.0   \n",
       "8        517702.0   2022-05-02 18:04:22     62.0        48.0  10000000.0   \n",
       "9       1233364.0   2022-03-10 14:37:04     37.0       206.0  24000000.0   \n",
       "\n",
       "   loan_rate  is_applied   user_id  birth_year  gender  ...  \\\n",
       "0       17.9         0.0  198106.0      1960.0     1.0  ...   \n",
       "1        9.6         1.0  469357.0      1982.0     1.0  ...   \n",
       "2       13.8         0.0  561933.0      1972.0     1.0  ...   \n",
       "3       16.9         0.0  734518.0      1998.0     0.0  ...   \n",
       "4       12.3         0.0  856643.0      1982.0     1.0  ...   \n",
       "5       11.7         0.0  807807.0      1991.0     1.0  ...   \n",
       "6        9.3         0.0   30269.0      1977.0     0.0  ...   \n",
       "7       13.5         0.0  396400.0      1988.0     1.0  ...   \n",
       "8        7.1         0.0  462947.0      1987.0     0.0  ...   \n",
       "9       19.9         0.0  689999.0      1999.0     1.0  ...   \n",
       "\n",
       "  insert_time_minute  personal_rehabilitation_yn_0  \\\n",
       "0                 15                             1   \n",
       "1                 30                             0   \n",
       "2                  5                             1   \n",
       "3                 53                             0   \n",
       "4                 11                             0   \n",
       "5                 10                             1   \n",
       "6                 52                             0   \n",
       "7                 22                             0   \n",
       "8                  4                             1   \n",
       "9                 37                             0   \n",
       "\n",
       "   personal_rehabilitation_yn_1 personal_rehabilitation_yn_2  \\\n",
       "0                             0                            0   \n",
       "1                             0                            1   \n",
       "2                             0                            0   \n",
       "3                             0                            1   \n",
       "4                             0                            1   \n",
       "5                             0                            0   \n",
       "6                             0                            1   \n",
       "7                             0                            1   \n",
       "8                             0                            0   \n",
       "9                             0                            1   \n",
       "\n",
       "   personal_rehabilitation_complete_yn_0  \\\n",
       "0                                      0   \n",
       "1                                      0   \n",
       "2                                      0   \n",
       "3                                      0   \n",
       "4                                      0   \n",
       "5                                      0   \n",
       "6                                      0   \n",
       "7                                      0   \n",
       "8                                      0   \n",
       "9                                      0   \n",
       "\n",
       "   personal_rehabilitation_complete_yn_1  \\\n",
       "0                                      0   \n",
       "1                                      0   \n",
       "2                                      0   \n",
       "3                                      0   \n",
       "4                                      0   \n",
       "5                                      0   \n",
       "6                                      0   \n",
       "7                                      0   \n",
       "8                                      0   \n",
       "9                                      0   \n",
       "\n",
       "   personal_rehabilitation_complete_yn_2  \\\n",
       "0                                      1   \n",
       "1                                      0   \n",
       "2                                      1   \n",
       "3                                      0   \n",
       "4                                      0   \n",
       "5                                      1   \n",
       "6                                      0   \n",
       "7                                      0   \n",
       "8                                      1   \n",
       "9                                      0   \n",
       "\n",
       "   personal_rehabilitation_complete_yn_3  company_enter_month_year  \\\n",
       "0                                      0                    1970.0   \n",
       "1                                      1                    1970.0   \n",
       "2                                      0                    1970.0   \n",
       "3                                      1                    1970.0   \n",
       "4                                      1                    1970.0   \n",
       "5                                      0                    1970.0   \n",
       "6                                      1                    1970.0   \n",
       "7                                      1                    1970.0   \n",
       "8                                      0                    1970.0   \n",
       "9                                      1                    1970.0   \n",
       "\n",
       "   company_enter_month_month  \n",
       "0                        1.0  \n",
       "1                        1.0  \n",
       "2                        1.0  \n",
       "3                        1.0  \n",
       "4                        1.0  \n",
       "5                        1.0  \n",
       "6                        1.0  \n",
       "7                        1.0  \n",
       "8                        1.0  \n",
       "9                        1.0  \n",
       "\n",
       "[10 rows x 58 columns]"
      ]
     },
     "execution_count": 3,
     "metadata": {},
     "output_type": "execute_result"
    }
   ],
   "source": [
    "data_train = pd.read_csv(path_train)\n",
    "# data_val = pd.read_csv(path_val)\n",
    "data_test = pd.read_csv(path_val)\n",
    "\n",
    "print(data_train.shape)\n",
    "# print(data_val.shape)\n",
    "print(data_test.shape)\n",
    "data_test.head(10)"
   ]
  },
  {
   "cell_type": "code",
   "execution_count": 5,
   "metadata": {
    "executionInfo": {
     "elapsed": 470,
     "status": "ok",
     "timestamp": 1664885057627,
     "user": {
      "displayName": "김태용",
      "userId": "03922804722454267637"
     },
     "user_tz": -540
    },
    "id": "5cH9bSl629YR"
   },
   "outputs": [],
   "source": [
    "X_train = data_train.drop([\"is_applied\"], axis=1)\n",
    "y_train = data_train[\"is_applied\"]\n",
    "# X_val = data_val.drop([\"is_applied\"], axis=1)\n",
    "# y_val = data_val[\"is_applied\"]\n",
    "X_test = data_test.drop([\"is_applied\"], axis=1)\n",
    "y_test = data_test[\"is_applied\"]"
   ]
  },
  {
   "cell_type": "code",
   "execution_count": 6,
   "metadata": {
    "colab": {
     "base_uri": "https://localhost:8080/",
     "height": 389
    },
    "executionInfo": {
     "elapsed": 496,
     "status": "error",
     "timestamp": 1664885371367,
     "user": {
      "displayName": "김태용",
      "userId": "03922804722454267637"
     },
     "user_tz": -540
    },
    "id": "wNo3ZTSs4ppB",
    "outputId": "ca535f55-7eac-49d2-b3da-0e4d93b02059"
   },
   "outputs": [],
   "source": [
    "# X_val = X_val.drop([\"loanapply_insert_time\", \"insert_time\", \"company_enter_month\"])\n",
    "X_train = X_train.drop([\"loanapply_insert_time\"], axis=1)\n",
    "X_train = X_train.drop([\"insert_time\"], axis=1)\n",
    "X_train = X_train.drop([\"company_enter_month\"], axis=1)\n",
    "\n",
    "X_test = X_test.drop([\"loanapply_insert_time\"], axis=1)\n",
    "X_test = X_test.drop([\"insert_time\"], axis=1)\n",
    "X_test = X_test.drop([\"company_enter_month\"], axis=1)\n",
    "\n",
    "# y_val = y_val.drop([\"loanapply_insert_time\", \"insert_time\", \"company_enter_month\"])\n"
   ]
  },
  {
   "cell_type": "code",
   "execution_count": 9,
   "metadata": {
    "id": "2DhxrDgIzDn1"
   },
   "outputs": [
    {
     "data": {
      "text/plain": [
       "XGBClassifier(base_score=0.5, booster='gbtree', callbacks=None,\n",
       "              colsample_bylevel=1, colsample_bynode=1, colsample_bytree=1,\n",
       "              early_stopping_rounds=None, enable_categorical=False,\n",
       "              eval_metric=None, gamma=0, gpu_id=-1, grow_policy='depthwise',\n",
       "              importance_type=None, interaction_constraints='',\n",
       "              learning_rate=0.300000012, max_bin=256, max_cat_to_onehot=4,\n",
       "              max_delta_step=0, max_depth=6, max_leaves=0, min_child_weight=1,\n",
       "              missing=nan, monotone_constraints='()', n_estimators=100,\n",
       "              n_jobs=0, num_parallel_tree=1, predictor='auto', random_state=0,\n",
       "              reg_alpha=0, reg_lambda=1, ...)"
      ]
     },
     "execution_count": 9,
     "metadata": {},
     "output_type": "execute_result"
    }
   ],
   "source": [
    "xgb = XGBClassifier(random_state=0)\n",
    "xgb.fit(X_train, y_train)"
   ]
  },
  {
   "cell_type": "code",
   "execution_count": 10,
   "metadata": {},
   "outputs": [],
   "source": [
    "# X_test.drop(['Unnamed: 0'], axis = 1, inplace = True)"
   ]
  },
  {
   "cell_type": "code",
   "execution_count": 12,
   "metadata": {
    "id": "4b07qEkN31M5"
   },
   "outputs": [
    {
     "name": "stdout",
     "output_type": "stream",
     "text": [
      "정확도 :0.9488045\n"
     ]
    }
   ],
   "source": [
    "pred = xgb.predict(X_test)\n",
    "print(\"정확도 :{0:.7f}\".format(accuracy_score(y_test, pred)))"
   ]
  },
  {
   "cell_type": "code",
   "execution_count": 30,
   "metadata": {},
   "outputs": [],
   "source": [
    "import joblib"
   ]
  },
  {
   "cell_type": "code",
   "execution_count": 31,
   "metadata": {},
   "outputs": [
    {
     "data": {
      "text/plain": [
       "['./random_forest_data_0.joblib']"
      ]
     },
     "execution_count": 31,
     "metadata": {},
     "output_type": "execute_result"
    }
   ],
   "source": [
    "joblib.dump(rf, \"./random_forest_data_0.joblib\")"
   ]
  },
  {
   "cell_type": "code",
   "execution_count": 34,
   "metadata": {},
   "outputs": [],
   "source": [
    "loaded_rf = joblib.load(\"./random_forest_data_0.joblib\")"
   ]
  },
  {
   "cell_type": "code",
   "execution_count": 35,
   "metadata": {},
   "outputs": [
    {
     "name": "stdout",
     "output_type": "stream",
     "text": [
      "정확도 :0.9677640\n"
     ]
    }
   ],
   "source": [
    "pred = loaded_rf.predict(X_test)\n",
    "print(\"정확도 :{0:.7f}\".format(accuracy_score(y_test, pred)))"
   ]
  },
  {
   "cell_type": "code",
   "execution_count": null,
   "metadata": {},
   "outputs": [],
   "source": []
  }
 ],
 "metadata": {
  "accelerator": "GPU",
  "colab": {
   "authorship_tag": "ABX9TyN6qjs3IXBWWKFSKlL0QUFo",
   "provenance": []
  },
  "kernelspec": {
   "display_name": "Python 3 (ipykernel)",
   "language": "python",
   "name": "python3"
  },
  "language_info": {
   "codemirror_mode": {
    "name": "ipython",
    "version": 3
   },
   "file_extension": ".py",
   "mimetype": "text/x-python",
   "name": "python",
   "nbconvert_exporter": "python",
   "pygments_lexer": "ipython3",
   "version": "3.9.12"
  }
 },
 "nbformat": 4,
 "nbformat_minor": 1
}
